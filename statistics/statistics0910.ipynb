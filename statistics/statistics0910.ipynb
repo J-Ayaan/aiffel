{
  "cells": [
    {
      "cell_type": "markdown",
      "metadata": {
        "id": "G8VgRCIxy3pI"
      },
      "source": [
        "# Ch9 & 10 실습: 가설검정의 함정과 인과관계 추론\n",
        "\n",
        "지난 시간, 우리는 `statsmodels`를 이용해 다양한 회귀 모델을 만드는 법을 배웠습니다. 오늘은 한 걸음 더 나아가, 통계 분석 결과를 해석할 때 빠지기 쉬운 함정들을 직접 코드로 체험하고, '상관관계'를 넘어 '인과관계'에 다가가는 고급 분석 기법들을 실습해 봅니다.\n",
        "\n",
        "**학습 목표:**\n",
        "\n",
        "1.  **허위 상관(Spurious Correlation)**과 **중첩요인(Confounder)**의 개념을 이해하고, 다중회귀로 중첩요인의 효과를 통제하는 법을 배웁니다.\n",
        "2.  **p-해킹**과 **표본 크기의 함정**이 왜 위험한지 시뮬레이션을 통해 직접 증명합니다.\n",
        "3.  실험이 불가능한 상황에서 인과 효과를 추정하는 강력한 도구, **경향 점수 짝짓기(PSM)**와 **이중차분법(DiD)**을 직접 구현해 봅니다.\n"
      ]
    },
    {
      "cell_type": "markdown",
      "metadata": {
        "id": "NpcPqZrzy3pL"
      },
      "source": [
        "## 사전 준비: 라이브러리 및 데이터 로드\n"
      ]
    },
    {
      "cell_type": "code",
      "execution_count": 1,
      "metadata": {
        "id": "Y9tbawvAy3pM"
      },
      "outputs": [
        {
          "name": "stdout",
          "output_type": "stream",
          "text": [
            "Requirement already satisfied: statsmodels in /opt/anaconda3/envs/py311/lib/python3.11/site-packages (0.14.5)\n",
            "Requirement already satisfied: scikit-learn in /opt/anaconda3/envs/py311/lib/python3.11/site-packages (1.6.1)\n",
            "Requirement already satisfied: numpy<3,>=1.22.3 in /opt/anaconda3/envs/py311/lib/python3.11/site-packages (from statsmodels) (2.0.1)\n",
            "Requirement already satisfied: scipy!=1.9.2,>=1.8 in /opt/anaconda3/envs/py311/lib/python3.11/site-packages (from statsmodels) (1.15.3)\n",
            "Requirement already satisfied: pandas!=2.1.0,>=1.4 in /opt/anaconda3/envs/py311/lib/python3.11/site-packages (from statsmodels) (2.2.3)\n",
            "Requirement already satisfied: patsy>=0.5.6 in /opt/anaconda3/envs/py311/lib/python3.11/site-packages (from statsmodels) (1.0.1)\n",
            "Requirement already satisfied: packaging>=21.3 in /opt/anaconda3/envs/py311/lib/python3.11/site-packages (from statsmodels) (24.2)\n",
            "Requirement already satisfied: joblib>=1.2.0 in /opt/anaconda3/envs/py311/lib/python3.11/site-packages (from scikit-learn) (1.5.0)\n",
            "Requirement already satisfied: threadpoolctl>=3.1.0 in /opt/anaconda3/envs/py311/lib/python3.11/site-packages (from scikit-learn) (3.6.0)\n",
            "Requirement already satisfied: python-dateutil>=2.8.2 in /opt/anaconda3/envs/py311/lib/python3.11/site-packages (from pandas!=2.1.0,>=1.4->statsmodels) (2.9.0.post0)\n",
            "Requirement already satisfied: pytz>=2020.1 in /opt/anaconda3/envs/py311/lib/python3.11/site-packages (from pandas!=2.1.0,>=1.4->statsmodels) (2024.1)\n",
            "Requirement already satisfied: tzdata>=2022.7 in /opt/anaconda3/envs/py311/lib/python3.11/site-packages (from pandas!=2.1.0,>=1.4->statsmodels) (2023.3)\n",
            "Requirement already satisfied: six>=1.5 in /opt/anaconda3/envs/py311/lib/python3.11/site-packages (from python-dateutil>=2.8.2->pandas!=2.1.0,>=1.4->statsmodels) (1.16.0)\n"
          ]
        }
      ],
      "source": [
        "# 필요 라이브러리 설치\n",
        "!pip install statsmodels scikit-learn\n",
        "\n",
        "# 코랩에서 한글 폰트 사용을 위한 설정 (필요 시 주석 해제 후 실행)\n",
        "# !sudo apt-get install -y fonts-nanum\n",
        "# !sudo fc-cache -fv\n",
        "# !rm ~/.cache/matplotlib -rf\n",
        "# 위 코드 실행 후 상단 메뉴에서 [런타임] > [런타임 다시 시작]을 눌러주세요."
      ]
    },
    {
      "cell_type": "code",
      "execution_count": 2,
      "metadata": {
        "id": "-OkPShGwy3pN"
      },
      "outputs": [],
      "source": [
        "# 런타임 다시 시작 후, 이 셀을 실행하여 라이브러리와 폰트를 로드합니다.\n",
        "import pandas as pd\n",
        "import numpy as np\n",
        "import matplotlib.pyplot as plt\n",
        "import seaborn as sns\n",
        "import statsmodels.api as sm\n",
        "from scipy import stats\n",
        "from sklearn.neighbors import NearestNeighbors\n",
        "\n",
        "# 한글 폰트 설정 (Mac 사용자는 'AppleGothic', Windows 사용자는 'Malgun Gothic' 등)\n",
        "try:\n",
        "    plt.rc('font', family='NanumGothic')\n",
        "except:\n",
        "    plt.rc('font', family='AppleGothic')\n",
        "plt.rcParams['axes.unicode_minus'] = False # 마이너스 기호 깨짐 방지\n",
        "\n",
        "# 경고 메시지 무시\n",
        "import warnings\n",
        "warnings.filterwarnings('ignore')"
      ]
    },
    {
      "cell_type": "markdown",
      "metadata": {
        "id": "cDVbvYc_y3pN"
      },
      "source": [
        "---\n"
      ]
    },
    {
      "cell_type": "markdown",
      "metadata": {
        "id": "TLAF_5q_y3pO"
      },
      "source": [
        "## 문제 1 (난이도: 하): 허위 상관과 중첩요인 통제하기\n",
        "\n",
        "> **🎯 목표:** '아이스크림 판매량과 익사자 수'의 관계처럼, **허위 상관(Spurious Correlation)**이 발생하는 원인인 **중첩요인(Confounder)**을 이해하고, 다중회귀분석을 통해 그 효과를 통제하는 방법을 실습합니다.\n"
      ]
    },
    {
      "cell_type": "markdown",
      "metadata": {
        "id": "Z7EDF7Oty3pO"
      },
      "source": [
        "### 💡 핵심 개념:\n",
        "\n",
        "**허위 상관**은 두 변수 사이에 직접적인 인과관계가 없지만, '기온'과 같은 제3의 변수(중첩요인)가 두 변수 모두에 영향을 주어 마치 관계가 있는 것처럼 보이는 현상입니다. **다중회귀분석**에 중첩요인을 함께 투입하면, 다른 변수들의 영향을 고정한 상태에서의 '순수한' 관계를 파악할 수 있습니다.\n"
      ]
    },
    {
      "cell_type": "markdown",
      "metadata": {
        "id": "0b6o6vKiy3pO"
      },
      "source": [
        "### 📌 수행 과제:\n",
        "\n",
        "1.  가상의 데이터를 생성합니다: '기온'이 높아질수록 '아이스크림 판매량'과 '해수욕객 수'가 모두 증가하는 상황을 시뮬레이션합니다.\n",
        "2.  **단순회귀분석**: '아이스크림 판매량'만으로 '해수욕객 수'를 예측하는 모델을 만듭니다. 계수가 유의미하게 나오는지 확인합니다.\n",
        "3.  **다중회귀분석**: '아이스크림 판매량'과 '기온'을 모두 사용하여 '해수욕객 수'를 예측하는 모델을 만듭니다.\n",
        "4.  두 모델의 결과를 비교하고, '아이스크림 판매량'의 계수(coef)와 p-value가 어떻게 변했는지 해석해 보세요.\n"
      ]
    },
    {
      "cell_type": "code",
      "execution_count": 3,
      "metadata": {
        "id": "-gnE7k59y3pP"
      },
      "outputs": [
        {
          "name": "stdout",
          "output_type": "stream",
          "text": [
            "                기온  아이스크림판매량     해수욕객수\n",
            "기온        1.000000  0.927709  0.938317\n",
            "아이스크림판매량  0.927709  1.000000  0.867599\n",
            "해수욕객수     0.938317  0.867599  1.000000\n",
            "\n",
            "--- 모델 1: 단순회귀분석 (아이스크림판매량 -> 해수욕객수) ---\n",
            "                            OLS Regression Results                            \n",
            "==============================================================================\n",
            "Dep. Variable:                  해수욕객수   R-squared:                       0.753\n",
            "Model:                            OLS   Adj. R-squared:                  0.750\n",
            "Method:                 Least Squares   F-statistic:                     298.3\n",
            "Date:                Mon, 15 Sep 2025   Prob (F-statistic):           1.70e-31\n",
            "Time:                        16:06:35   Log-Likelihood:                -486.59\n",
            "No. Observations:                 100   AIC:                             977.2\n",
            "Df Residuals:                      98   BIC:                             982.4\n",
            "Df Model:                           1                                         \n",
            "Covariance Type:            nonrobust                                         \n",
            "==============================================================================\n",
            "                 coef    std err          t      P>|t|      [0.025      0.975]\n",
            "------------------------------------------------------------------------------\n",
            "const         22.4821     13.255      1.696      0.093      -3.822      48.787\n",
            "아이스크림판매량       4.5550      0.264     17.272      0.000       4.032       5.078\n",
            "==============================================================================\n",
            "Omnibus:                        4.503   Durbin-Watson:                   1.862\n",
            "Prob(Omnibus):                  0.105   Jarque-Bera (JB):                4.127\n",
            "Skew:                           0.330   Prob(JB):                        0.127\n",
            "Kurtosis:                       3.745   Cond. No.                         210.\n",
            "==============================================================================\n",
            "\n",
            "Notes:\n",
            "[1] Standard Errors assume that the covariance matrix of the errors is correctly specified.\n",
            "\n",
            "--- 모델 2: 다중회귀분석 (중첩요인 '기온' 통제) ---\n",
            "                            OLS Regression Results                            \n",
            "==============================================================================\n",
            "Dep. Variable:                  해수욕객수   R-squared:                       0.880\n",
            "Model:                            OLS   Adj. R-squared:                  0.878\n",
            "Method:                 Least Squares   F-statistic:                     357.4\n",
            "Date:                Mon, 15 Sep 2025   Prob (F-statistic):           1.79e-45\n",
            "Time:                        16:06:35   Log-Likelihood:                -450.23\n",
            "No. Observations:                 100   AIC:                             906.5\n",
            "Df Residuals:                      97   BIC:                             914.3\n",
            "Df Model:                           2                                         \n",
            "Covariance Type:            nonrobust                                         \n",
            "==============================================================================\n",
            "                 coef    std err          t      P>|t|      [0.025      0.975]\n",
            "------------------------------------------------------------------------------\n",
            "const          0.8001      9.504      0.084      0.933     -18.062      19.662\n",
            "아이스크림판매량      -0.1087      0.494     -0.220      0.826      -1.088       0.871\n",
            "기온            10.2149      1.003     10.184      0.000       8.224      12.206\n",
            "==============================================================================\n",
            "Omnibus:                        5.239   Durbin-Watson:                   2.103\n",
            "Prob(Omnibus):                  0.073   Jarque-Bera (JB):                5.526\n",
            "Skew:                           0.306   Prob(JB):                       0.0631\n",
            "Kurtosis:                       3.975   Cond. No.                         241.\n",
            "==============================================================================\n",
            "\n",
            "Notes:\n",
            "[1] Standard Errors assume that the covariance matrix of the errors is correctly specified.\n"
          ]
        }
      ],
      "source": [
        "# 1. 가상 데이터 생성 (이 코드는 수정하지 마세요)\n",
        "np.random.seed(42)\n",
        "n_samples = 100\n",
        "temperature = np.random.uniform(15, 35, n_samples)\n",
        "ice_cream_sales = 2 * temperature + np.random.normal(0, 5, n_samples)\n",
        "beach_visitors = 10 * temperature + np.random.normal(0, 20, n_samples)\n",
        "df1 = pd.DataFrame({'기온': temperature, '아이스크림판매량': ice_cream_sales, '해수욕객수': beach_visitors})\n",
        "print(df1.corr())\n",
        "\n",
        "# 2. 단순회귀분석: 아이스크림판매량 -> 해수욕객수\n",
        "print(\"\\n--- 모델 1: 단순회귀분석 (아이스크림판매량 -> 해수욕객수) ---\")\n",
        "y = df1['해수욕객수']\n",
        "# 독립변수로 '아이스크림판매량'만 선택하세요.\n",
        "X_simple = df1[['아이스크림판매량']]\n",
        "# X_simple에 상수항을 추가하세요.\n",
        "X_simple_const = sm.add_constant(X_simple)\n",
        "# OLS 모델을 y와 X_simple_const로 학습시키세요.\n",
        "model_simple = sm.OLS(y, X_simple_const).fit()\n",
        "print(model_simple.summary())\n",
        "\n",
        "# 3. 다중회귀분석: (아이스크림판매량, 기온) -> 해수욕객수\n",
        "print(\"\\n--- 모델 2: 다중회귀분석 (중첩요인 '기온' 통제) ---\")\n",
        "# 독립변수로 '아이스크림판매량'과 '기온'을 모두 선택하세요.\n",
        "X_multi = df1[['아이스크림판매량', '기온']]\n",
        "# X_multi에 상수항을 추가하세요.\n",
        "X_multi_const = sm.add_constant(X_multi)\n",
        "# OLS 모델을 y와 X_multi_const로 학습시키세요.\n",
        "model_multi = sm.OLS(y, X_multi_const).fit()\n",
        "print(model_multi.summary())\n",
        "\n",
        "# 4. 결과 해석 (아래 주석에 직접 작성해 보세요)\n",
        "# 모델 1에서 아이스크림판매량의 계수와 p-value:\n",
        "#   - 계수: model_simple.params['아이스크림판매량']\n",
        "#   - p-value: model_simple.pvalues['아이스크림판매량']\n",
        "# 모델 2에서 아이스크림판매량의 계수와 p-value:\n",
        "#   - 계수: model_multi.params['아이스크림판매량']\n",
        "#   - p-value: model_multi.pvalues['아이스크림판매량']\n",
        "# 결과가 변한 이유:\n",
        "#   - 단순회귀분석에서는 '기온'이라는 중첩요인을 통제하지 않아 아이스크림판매량이 해수욕객수에 직접적인 영향을 주는 것처럼 보임(허위 상관).\n",
        "#   - 다중회귀분석에서는 '기온'을 함께 투입하여 통제하므로, 아이스크림판매량의 순수한 효과만 추정할 수 있음. 이로 인해 계수와 p-value가 크게 달라질 수 있음."
      ]
    },
    {
      "cell_type": "markdown",
      "metadata": {
        "id": "uthVlHmXy3pP"
      },
      "source": [
        "### 🤔 생각해 볼 문제:\n",
        "\n",
        "만약 '기온' 데이터를 수집하지 못했다면, 우리는 어떤 잘못된 결론에 도달할 위험이 있었을까요? 데이터 분석에서 '도메인 지식'이 왜 중요한지 이 사례를 통해 설명해 보세요.\n"
      ]
    },
    {
      "cell_type": "markdown",
      "metadata": {
        "id": "rGXdzgdoy3pP"
      },
      "source": [
        "---\n"
      ]
    },
    {
      "cell_type": "markdown",
      "metadata": {
        "id": "LEaP03BAy3pP"
      },
      "source": [
        "## 문제 2 (난이도: 하): 표본 크기의 함정과 효과 크기의 중요성\n",
        "\n",
        "> **🎯 목표:** 표본 크기(n)가 커지면 아주 미미한 차이도 통계적으로 유의(p<0.05)하게 되는 현상을 확인하고, 이 때문에 **효과 크기(Effect Size)**를 함께 확인해야 하는 이유를 이해합니다.\n"
      ]
    },
    {
      "cell_type": "markdown",
      "metadata": {
        "id": "nH07s3rYy3pQ"
      },
      "source": [
        "### 💡 핵심 개념:\n",
        "\n",
        "가설검정에서 p-value는 '귀무가설이 맞다고 가정할 때, 현재 데이터와 같거나 더 극단적인 결과가 나올 확률'입니다. 표본이 커질수록 아주 작은 차이도 우연으로 보기 어려워지므로 p-value는 작아집니다. **효과 크기**는 이 차이가 '실질적으로 얼마나 의미 있는 크기인가'를 나타내는 지표로, p-value의 한계를 보완해 줍니다.\n"
      ]
    },
    {
      "cell_type": "markdown",
      "metadata": {
        "id": "mjkdcgyKy3pQ"
      },
      "source": [
        "### 📌 수행 과제:\n",
        "\n",
        "1.  평균이 아주 약간 다른(예: 170cm vs 170.1cm) 두 집단을 가정합니다.\n",
        "2.  **작은 표본(n=30)**을 각 집단에서 추출하여 t-검정을 수행하고 p-value를 확인합니다.\n",
        "3.  **큰 표본(n=10,000)**을 각 집단에서 추출하여 t-검정을 수행하고 p-value를 확인합니다.\n",
        "4.  두 경우 모두에 대해 **효과 크기(Cohen's d)**를 직접 계산하고, p-value와 효과 크기가 어떻게 다른 메시지를 주는지 비교 분석하세요.\n"
      ]
    },
    {
      "cell_type": "code",
      "execution_count": 5,
      "metadata": {
        "id": "bSzgDZoZy3pQ"
      },
      "outputs": [
        {
          "name": "stdout",
          "output_type": "stream",
          "text": [
            "--- 작은 표본 (n=30) 결과 ---\n",
            "P-value: 0.7100\n",
            "Effect Size (Cohen's d): -0.0965\n",
            "\n",
            "--- 큰 표본 (n=10000) 결과 ---\n",
            "P-value: 0.1673\n",
            "Effect Size (Cohen's d): -0.0195\n",
            "\n"
          ]
        }
      ],
      "source": [
        "# 효과 크기(Cohen's d) 계산 함수 (이 코드는 수정하지 마세요)\n",
        "def cohen_d(x, y):\n",
        "    nx, ny = len(x), len(y)\n",
        "    dof = nx + ny - 2\n",
        "    return (np.mean(x) - np.mean(y)) / np.sqrt(((nx-1)*np.std(x, ddof=1)**2 + (ny-1)*np.std(y, ddof=1)**2) / dof)\n",
        "\n",
        "import numpy as np\n",
        "import scipy.stats as stats\n",
        "\n",
        "np.random.seed(123)\n",
        "mu1, mu2, sigma = 170, 170.1, 5\n",
        "\n",
        "# 2. 작은 표본(n=30)으로 검정\n",
        "sample1_small = np.random.normal(mu1, sigma, 30)\n",
        "sample2_small = np.random.normal(mu2, sigma, 30)\n",
        "\n",
        "# scipy.stats.ttest_ind를 사용하여 두 작은 표본 간의 t-검정을 수행하세요.\n",
        "t_stat_small, p_value_small = stats.ttest_ind(sample1_small, sample2_small)\n",
        "effect_size_small = cohen_d(sample1_small, sample2_small)\n",
        "\n",
        "print(f\"--- 작은 표본 (n=30) 결과 ---\")\n",
        "print(f\"P-value: {p_value_small:.4f}\")\n",
        "print(f\"Effect Size (Cohen's d): {effect_size_small:.4f}\\n\")\n",
        "\n",
        "# 3. 큰 표본(n=10000)으로 검정\n",
        "sample1_large = np.random.normal(mu1, sigma, 10000)\n",
        "sample2_large = np.random.normal(mu2, sigma, 10000)\n",
        "\n",
        "# scipy.stats.ttest_ind를 사용하여 두 큰 표본 간의 t-검정을 수행하세요.\n",
        "t_stat_large, p_value_large = stats.ttest_ind(sample1_large, sample2_large)\n",
        "effect_size_large = cohen_d(sample1_large, sample2_large)\n",
        "\n",
        "print(f\"--- 큰 표본 (n=10000) 결과 ---\")\n",
        "print(f\"P-value: {p_value_large:.4f}\")\n",
        "print(f\"Effect Size (Cohen's d): {effect_size_large:.4f}\\n\")\n",
        "\n",
        "# 4. 결과 해석 (아래 주석에 직접 작성해 보세요)\n",
        "# 표본 크기가 커지자 p-value는 어떻게 변했나요?:\n",
        "#   - 표본 크기가 커지면 p-value가 매우 작아집니다(더 유의하게 나옴).\n",
        "# 두 경우의 효과 크기는 비슷한가요, 다른가요?:\n",
        "#   - 효과 크기(Cohen's d)는 표본 크기와 무관하게 거의 비슷하게 나타납니다.\n",
        "# 이 결과는 우리에게 무엇을 알려주나요?:\n",
        "#   - 표본이 커지면 아주 작은 차이도 통계적으로 유의하게 나오므로, p-value만 볼 경우 실제로는 의미 없는 차이도 '유의하다'고 오해할 수 있습니다.\n",
        "#   - 따라서 효과 크기(실질적 차이의 크기)도 반드시 함께 확인해야 합니다."
      ]
    },
    {
      "cell_type": "markdown",
      "metadata": {
        "id": "cqVMi33Gy3pQ"
      },
      "source": [
        "### 🤔 생각해 볼 문제:\n",
        "\n",
        "A/B 테스트에서 웹사이트 버튼 색깔을 바꿨더니, 클릭률이 0.1%p 증가했고, p-value는 0.001이었습니다. 이 결과를 보고 버튼 색깔을 바꾸는 것이 항상 옳다고 할 수 있을까요? '통계적 유의성'과 '실무적 중요성(practical significance)'의 차이에 대해 효과 크기 개념을 바탕으로 설명해 보세요.\n"
      ]
    },
    {
      "cell_type": "markdown",
      "metadata": {
        "id": "8pWTUNR3y3pQ"
      },
      "source": [
        "---\n"
      ]
    },
    {
      "cell_type": "markdown",
      "metadata": {
        "id": "l170Feaky3pQ"
      },
      "source": [
        "## 문제 3 (난이도: 중): p-해킹 시뮬레이션\n",
        "\n",
        "> **🎯 목표:** '데이터를 보면서 분석을 계속할지 결정하는 행위'가 어떻게 잘못된 결론(제1종 오류)의 가능성을 높이는지, 즉 **p-해킹**의 위험성을 시뮬레이션을 통해 직접 증명합니다.\n"
      ]
    },
    {
      "cell_type": "markdown",
      "metadata": {
        "id": "j1KIbuxMy3pQ"
      },
      "source": [
        "### 💡 핵심 개념:\n",
        "\n",
        "**p-해킹**은 연구자가 의도했든 안 했든 p-value를 낮추기 위해 분석 과정을 조작하는 행위를 말합니다. 대표적인 예로, p-value가 0.05를 넘으면 표본을 더 모아서 다시 검정하는 행위가 있습니다. 원래 제1종 오류(실제 차이가 없는데, 차이가 있다고 결론 내릴 오류) 확률은 유의수준 α(보통 0.05)로 통제되어야 하지만, p-해킹은 이 확률을 α보다 훨씬 높게 만듭니다.\n"
      ]
    },
    {
      "cell_type": "markdown",
      "metadata": {
        "id": "RFloUXnFy3pQ"
      },
      "source": [
        "### 📌 수행 과제:\n",
        "\n",
        "1.  **아무 차이가 없는** 두 집단 A, B를 가정합니다 (귀무가설이 참인 상황).\n",
        "2.  'p-해커'를 시뮬레이션하는 함수를 만듭니다. 이 함수는 다음 로직을 따릅니다:\n",
        "    - 먼저 각 집단에서 20명씩 표본을 추출하여 t-검정을 합니다.\n",
        "    - p < 0.05이면 '유의미한 결과 발견!'을 외치고 멈춥니다.\n",
        "    - p >= 0.05이면, 10명씩 표본을 추가하여 다시 t-검정을 합니다. 이 과정을 최대 5번까지 반복합니다.\n",
        "3.  이 시뮬레이션을 1,000번 반복하여, 'p-해커'가 결국 '유의미한 결과'를 발견할 확률이 몇 %인지 계산합니다.\n",
        "4.  계산된 확률이 왜 5%보다 훨씬 높은지 설명하세요.\n"
      ]
    },
    {
      "cell_type": "code",
      "execution_count": 6,
      "metadata": {
        "id": "Fh5TcT_Vy3pQ"
      },
      "outputs": [
        {
          "name": "stdout",
          "output_type": "stream",
          "text": [
            "관찰된 제1종 오류율: 11.50%\n"
          ]
        }
      ],
      "source": [
        "# p-해킹 시뮬레이션 함수 (이 코드는 수정하지 마세요)\n",
        "def p_hacking_simulation():\n",
        "    mu, sigma = 0, 1\n",
        "    sample_a, sample_b = list(np.random.normal(mu, sigma, 20)), list(np.random.normal(mu, sigma, 20))\n",
        "    for i in range(5):\n",
        "        t_stat, p_val = stats.ttest_ind(sample_a, sample_b)\n",
        "        if p_val < 0.05:\n",
        "            return True # p-해킹 성공!\n",
        "        if i < 4:\n",
        "            sample_a.extend(np.random.normal(mu, sigma, 10))\n",
        "            sample_b.extend(np.random.normal(mu, sigma, 10))\n",
        "    return False # 5번 시도 모두 실패\n",
        "\n",
        "# 3. 시뮬레이션 1000번 실행\n",
        "n_simulations = 1000\n",
        "p_hacking_success_count = 0\n",
        "\n",
        "# for문을 사용하여 시뮬레이션을 1000번 반복하세요.\n",
        "for _ in range(n_simulations):\n",
        "    # p_hacking_simulation() 함수를 호출하고, 결과가 True이면 (p-해킹에 성공하면)\n",
        "    # p_hacking_success_count를 1 증가시키세요.\n",
        "    if p_hacking_simulation():\n",
        "        p_hacking_success_count += 1\n",
        "\n",
        "type_1_error_rate = p_hacking_success_count / n_simulations\n",
        "print(f\"관찰된 제1종 오류율: {type_1_error_rate * 100:.2f}%\")\n",
        "\n",
        "# 4. 결과 해석 (아래 주석에 직접 작성해 보세요)\n",
        "# 제1종 오류율이 5%보다 훨씬 높게 나온 이유는?:\n",
        "# 여러 번 검정을 반복하면서 p-value < 0.05가 나올 때까지 표본을 추가하기 때문에, 우연히 유의미한 결과가 나올 확률이 누적되어 5%를 훨씬 초과하게 됩니다. 즉, 검정 횟수가 많아질수록 제1종 오류(실제로 차이가 없는데 차이가 있다고 결론 내릴 확률)가 급격히 증가합니다.\n",
        "\n",
        "# 이러한 연구 방식(p-해킹)이 '재현성 위기'를 초래하는 이유는?:\n",
        "# p-해킹은 실제로는 존재하지 않는 효과를 '유의미하다'고 잘못 결론내릴 확률을 높입니다. 이런 결과는 다른 연구자가 동일한 실험을 반복했을 때 재현되지 않으므로, 과학적 신뢰성을 떨어뜨리고 재현성 위기를 초래합니다."
      ]
    },
    {
      "cell_type": "markdown",
      "metadata": {
        "id": "nSduCzbGy3pQ"
      },
      "source": [
        "### 🤔 생각해 볼 문제:\n",
        "\n",
        "p-해킹을 막기 위한 현실적인 방법 중 하나는 **'사전 등록(Preregistration)'** 입니다. 연구를 시작하기 전에 '표본 크기는 몇으로 할 것이며, 어떤 분석을 할 것이다'라고 미리 공개적으로 약속하는 것입니다. 이 방법이 위 시뮬레이션에서 보여준 p-해킹 문제를 어떻게 방지할 수 있을지 설명해 보세요.\n"
      ]
    },
    {
      "cell_type": "markdown",
      "metadata": {
        "id": "uc3wAzYfy3pQ"
      },
      "source": [
        "---\n"
      ]
    },
    {
      "cell_type": "markdown",
      "metadata": {
        "id": "v0V9SCJOy3pR"
      },
      "source": [
        "## 문제 4 (난이도: 중): 경향 점수 짝짓기(PSM)로 인과 효과 추정하기\n",
        "\n",
        "> **🎯 목표:** 무작위 통제 실험(RCT)이 불가능한 관찰 데이터에서, **선택 편향(Selection Bias)**을 통제하고 인과 효과를 추정하는 대표적인 방법인 **경향 점수 짝짓기(Propensity Score Matching, PSM)**를 직접 구현합니다.\n"
      ]
    },
    {
      "cell_type": "markdown",
      "metadata": {
        "id": "yGE50-aJy3pR"
      },
      "source": [
        "### 💡 핵심 개념:\n",
        "\n",
        "**PSM**은 '특정 처치(treatment)를 받을 경향'을 점수로 계산하여, 이 점수가 비슷한 실험군과 대조군 개체를 1:1로 짝지어주는 방법입니다. 이를 통해 처치 여부를 제외한 다른 특성(중첩요인)들이 비슷한, 즉 **'통계적 쌍둥이'** 집단을 만들 수 있습니다. 이 '짝지어진' 집단 간의 결과 차이를 비교하면, 선택 편향이 보정된 순수한 처치 효과에 더 가깝게 다가갈 수 있습니다.\n"
      ]
    },
    {
      "cell_type": "markdown",
      "metadata": {
        "id": "9TQYBwWDy3pR"
      },
      "source": [
        "### 📌 수행 과제:\n",
        "\n",
        "1.  '새로운 온라인 강의 수강 여부'가 '기말고사 성적'에 미치는 영향을 분석하는 가상 데이터를 생성합니다. (단, '사전 성적'이 높고 '학습 의지'가 높은 학생일수록 강의를 신청할 확률이 높도록 **선택 편향**을 부여합니다.)\n",
        "2.  **단순 비교**: 전체 수강생 집단과 비수강생 집단의 평균 성적을 비교합니다.\n",
        "3.  **PSM 수행**:\n",
        "    a. 로지스틱 회귀를 이용해 각 학생의 '강의 수강 경향 점수(propensity score)'를 계산합니다.\n",
        "    b. 수강생(실험군) 한 명마다, 경향 점수가 가장 비슷한 비수강생(대조군)을 짝지어 줍니다. (`sklearn.neighbors.NearestNeighbors` 활용)\n",
        "4.  **짝지어진 후 비교**: '짝지어진' 수강생 집단과 비수강생 집단의 평균 성적을 비교하고, 그 차이(ATT: Average Treatment Effect on the Treated)를 계산합니다.\n",
        "5.  단순 비교 결과와 PSM 후의 결과를 비교하고, 왜 결과가 달라졌는지 해석합니다.\n"
      ]
    },
    {
      "cell_type": "code",
      "execution_count": 7,
      "metadata": {
        "id": "1KPHHA61y3pR"
      },
      "outputs": [
        {
          "name": "stdout",
          "output_type": "stream",
          "text": [
            "단순 평균 비교 (성적 차이): 19.96점\n",
            "\n",
            "PSM 이후 평균 비교 (추정된 인과 효과): 4.31점\n",
            "\n"
          ]
        }
      ],
      "source": [
        "# 1. 선택 편향이 있는 데이터 생성 (이 코드는 수정하지 마세요)\n",
        "np.random.seed(42)\n",
        "n = 1000\n",
        "pre_score = np.random.normal(60, 10, n)\n",
        "motivation = np.random.uniform(0, 1, n)\n",
        "propensity = 1 / (1 + np.exp(-( -5 + (pre_score-60)/5 + motivation*2)))\n",
        "treatment = np.random.binomial(1, propensity, n)\n",
        "true_effect = 5\n",
        "final_score = pre_score + treatment * true_effect + np.random.normal(0, 5, n)\n",
        "df4 = pd.DataFrame({'pre_score': pre_score, 'motivation': motivation, 'treatment': treatment, 'final_score': final_score})\n",
        "\n",
        "# 2. 단순 비교 (Naive Effect)\n",
        "naive_effect = df4[df4['treatment']==1]['final_score'].mean() - df4[df4['treatment']==0]['final_score'].mean()\n",
        "print(f\"단순 평균 비교 (성적 차이): {naive_effect:.2f}점\\n\")\n",
        "\n",
        "# 3-a. 경향 점수 계산\n",
        "X = df4[['pre_score', 'motivation']]\n",
        "y = df4['treatment']\n",
        "logit_model = sm.Logit(y, sm.add_constant(X)).fit(disp=0)\n",
        "df4['propensity_score'] = logit_model.predict(sm.add_constant(X))\n",
        "\n",
        "# 3-b. 짝짓기 (Matching)\n",
        "treated = df4[df4['treatment'] == 1]\n",
        "control = df4[df4['treatment'] == 0]\n",
        "\n",
        "# NearestNeighbors를 사용하여 control 그룹에서 treated 그룹과 가장 가까운 이웃 1명을 찾도록 설정하세요.\n",
        "nn = NearestNeighbors(n_neighbors=1)\n",
        "# control 그룹의 경향 점수로 모델을 학습시키세요.\n",
        "nn.fit(control[['propensity_score']])\n",
        "# treated 그룹의 경향 점수를 기반으로 가장 가까운 이웃의 인덱스를 찾으세요.\n",
        "distances, indices = nn.kneighbors(treated[['propensity_score']])\n",
        "\n",
        "matched_control = control.iloc[indices.flatten()]\n",
        "\n",
        "# 4. 짝지어진 후 비교 (ATT 계산)\n",
        "# treated 그룹과 matched_control 그룹의 'final_score' 평균 차이를 계산하여 ATT를 구하세요.\n",
        "att_effect = treated['final_score'].mean() - matched_control['final_score'].mean()\n",
        "print(f\"PSM 이후 평균 비교 (추정된 인과 효과): {att_effect:.2f}점\\n\")\n",
        "\n",
        "# 5. 결과 해석 (아래 주석에 직접 작성해 보세요)\n",
        "# 단순 비교 결과가 실제 효과(5점)보다 크게 나온 이유는?:\n",
        "# 선택 편향 때문에, 원래 실험군(수강생) 집단이 대조군(비수강생) 집단보다 사전 성적과 학습 의지가 높아서, 단순 비교 시 실제 효과보다 과대추정됨.\n",
        "# PSM을 통해 이 문제를 어떻게 해결할 수 있었나요?:\n",
        "# 경향 점수가 비슷한 실험군-대조군을 1:1로 짝지어 비교함으로써, 사전 성적과 학습 의지 등 중첩요인의 영향을 통제하고, 순수한 처치 효과에 더 가까운 값을 추정할 수 있었음."
      ]
    },
    {
      "cell_type": "markdown",
      "metadata": {
        "id": "kHJTa1H9y3pR"
      },
      "source": [
        "### 🤔 생각해 볼 문제:\n",
        "\n",
        "짝짓기(Matching)가 잘 되었는지 확인하는 방법 중 하나는, 짝지어진 두 집단의 중첩요인(여기서는 `pre_score`, `motivation`) 평균이 서로 비슷해졌는지 확인하는 것입니다. 이를 **'공변량 균형(Covariate Balance)'** 확인이라고 합니다. 짝짓기 전과 후의 `pre_score` 평균 차이를 각각 계산해보고, PSM이 공변량 균형을 맞추는 데 성공했는지 확인해보세요.\n"
      ]
    },
    {
      "cell_type": "markdown",
      "metadata": {
        "id": "EO-71N9py3pR"
      },
      "source": [
        "---\n"
      ]
    },
    {
      "cell_type": "markdown",
      "metadata": {
        "id": "efMPYu_Wy3pR"
      },
      "source": [
        "## 문제 5 (난이도: 상): 이중차분법(DiD)으로 정책 효과 분석하기\n",
        "\n",
        "> **🎯 목표:** 특정 집단에만 시행된 정책의 효과를 분석하는 대표적인 준실험 방법론, **이중차분법(Difference-in-Differences, DiD)**을 회귀분석으로 구현하고 핵심 가정을 이해합니다.\n"
      ]
    },
    {
      "cell_type": "markdown",
      "metadata": {
        "id": "JielxQHTy3pR"
      },
      "source": [
        "### 💡 핵심 개념:\n",
        "\n",
        "**이중차분법(DiD)**은 정책이 시행된 **실험군(Treatment Group)**과 시행되지 않은 **통제군(Control Group)**의 **정책 시행 전후(Pre-Post)** 데이터를 모두 활용하는 강력한 인과추론 방법입니다. 핵심 아이디어는 '정책이 없었을 경우의 자연적인 시간 변화'를 통제군을 통해 추정하고, 이를 실험군의 변화에서 빼 줌으로써 정책의 순수한 효과만 발라내는 것입니다. 회귀분석에서는 `(실험군 여부) * (정책 후 여부)`의 **상호작용 항** 계수가 바로 DiD 추정치가 됩니다.\n"
      ]
    },
    {
      "cell_type": "markdown",
      "metadata": {
        "id": "c-GxgmeVy3pR"
      },
      "source": [
        "### 📌 수행 과제:\n",
        "\n",
        "1.  '서울시'에만 '무료 공공 와이파이' 정책을 도입했을 때, 시민들의 '월 평균 데이터 사용량'에 미치는 영향을 분석하는 가상 데이터를 생성합니다. (실험군: 서울, 통제군: 부산)\n",
        "2.  **시각화**: 정책 시행 전후, 두 도시의 평균 데이터 사용량 변화를 꺾은선 그래프로 그려봅니다.\n",
        "3.  **DiD 회귀분석**: `데이터사용량 ~ is_서울 + is_정책후 + is_서울*is_정책후` 형태의 회귀 모델을 만듭니다.\n",
        "    - `is_서울`: 서울이면 1, 부산이면 0\n",
        "    - `is_정책후`: 정책 시행 후(2024년)이면 1, 시행 전(2023년)이면 0\n",
        "    - `is_서울*is_정책후`: 상호작용 항\n",
        "4.  회귀분석 결과표에서 상호작용 항의 계수(coef)와 p-value를 확인하고, 정책의 효과를 해석해 보세요.\n"
      ]
    },
    {
      "cell_type": "code",
      "execution_count": 8,
      "metadata": {
        "id": "0zdZz8Day3pR"
      },
      "outputs": [
        {
          "name": "stderr",
          "output_type": "stream",
          "text": [
            "findfont: Font family 'NanumGothic' not found.\n",
            "findfont: Font family 'NanumGothic' not found.\n",
            "findfont: Font family 'NanumGothic' not found.\n",
            "findfont: Font family 'NanumGothic' not found.\n",
            "findfont: Font family 'NanumGothic' not found.\n",
            "findfont: Font family 'NanumGothic' not found.\n",
            "findfont: Font family 'NanumGothic' not found.\n",
            "findfont: Font family 'NanumGothic' not found.\n",
            "findfont: Font family 'NanumGothic' not found.\n",
            "findfont: Font family 'NanumGothic' not found.\n",
            "findfont: Font family 'NanumGothic' not found.\n",
            "findfont: Font family 'NanumGothic' not found.\n",
            "findfont: Font family 'NanumGothic' not found.\n",
            "findfont: Font family 'NanumGothic' not found.\n",
            "findfont: Font family 'NanumGothic' not found.\n",
            "findfont: Font family 'NanumGothic' not found.\n",
            "findfont: Font family 'NanumGothic' not found.\n",
            "findfont: Font family 'NanumGothic' not found.\n",
            "findfont: Font family 'NanumGothic' not found.\n",
            "findfont: Font family 'NanumGothic' not found.\n",
            "findfont: Font family 'NanumGothic' not found.\n",
            "findfont: Font family 'NanumGothic' not found.\n",
            "findfont: Font family 'NanumGothic' not found.\n",
            "findfont: Font family 'NanumGothic' not found.\n",
            "findfont: Font family 'NanumGothic' not found.\n",
            "findfont: Font family 'NanumGothic' not found.\n",
            "findfont: Font family 'NanumGothic' not found.\n",
            "findfont: Font family 'NanumGothic' not found.\n",
            "findfont: Font family 'NanumGothic' not found.\n",
            "findfont: Font family 'NanumGothic' not found.\n",
            "findfont: Font family 'NanumGothic' not found.\n",
            "findfont: Font family 'NanumGothic' not found.\n",
            "findfont: Font family 'NanumGothic' not found.\n",
            "findfont: Font family 'NanumGothic' not found.\n",
            "findfont: Font family 'NanumGothic' not found.\n",
            "findfont: Font family 'NanumGothic' not found.\n",
            "findfont: Font family 'NanumGothic' not found.\n",
            "findfont: Font family 'NanumGothic' not found.\n",
            "findfont: Font family 'NanumGothic' not found.\n",
            "findfont: Font family 'NanumGothic' not found.\n",
            "findfont: Font family 'NanumGothic' not found.\n",
            "findfont: Font family 'NanumGothic' not found.\n",
            "findfont: Font family 'NanumGothic' not found.\n",
            "findfont: Font family 'NanumGothic' not found.\n",
            "findfont: Font family 'NanumGothic' not found.\n",
            "findfont: Font family 'NanumGothic' not found.\n",
            "findfont: Font family 'NanumGothic' not found.\n",
            "findfont: Font family 'NanumGothic' not found.\n",
            "findfont: Font family 'NanumGothic' not found.\n"
          ]
        },
        {
          "data": {
            "image/png": "[encoded data removed]",
            "text/plain": [
              "<Figure size 640x480 with 1 Axes>"
            ]
          },
          "metadata": {},
          "output_type": "display_data"
        },
        {
          "name": "stdout",
          "output_type": "stream",
          "text": [
            "                            OLS Regression Results                            \n",
            "==============================================================================\n",
            "Dep. Variable:             data_usage   R-squared:                       0.674\n",
            "Model:                            OLS   Adj. R-squared:                  0.673\n",
            "Method:                 Least Squares   F-statistic:                     1373.\n",
            "Date:                Mon, 15 Sep 2025   Prob (F-statistic):               0.00\n",
            "Time:                        17:09:20   Log-Likelihood:                -5079.1\n",
            "No. Observations:                2000   AIC:                         1.017e+04\n",
            "Df Residuals:                    1996   BIC:                         1.019e+04\n",
            "Df Model:                           3                                         \n",
            "Covariance Type:            nonrobust                                         \n",
            "==============================================================================\n",
            "                 coef    std err          t      P>|t|      [0.025      0.975]\n",
            "------------------------------------------------------------------------------\n",
            "const         10.1600      0.137     74.006      0.000       9.891      10.429\n",
            "is_seoul       4.6588      0.194     23.996      0.000       4.278       5.040\n",
            "is_post        2.0141      0.194     10.374      0.000       1.633       2.395\n",
            "did_term       4.9832      0.275     18.149      0.000       4.445       5.522\n",
            "==============================================================================\n",
            "Omnibus:                        1.727   Durbin-Watson:                   2.022\n",
            "Prob(Omnibus):                  0.422   Jarque-Bera (JB):                1.708\n",
            "Skew:                           0.030   Prob(JB):                        0.426\n",
            "Kurtosis:                       2.870   Cond. No.                         6.85\n",
            "==============================================================================\n",
            "\n",
            "Notes:\n",
            "[1] Standard Errors assume that the covariance matrix of the errors is correctly specified.\n"
          ]
        }
      ],
      "source": [
        "# 1. DiD 분석을 위한 가상 패널 데이터 생성 (이 코드는 수정하지 마세요)\n",
        "np.random.seed(2025)\n",
        "n_per_group = 500\n",
        "df_seoul_pre = pd.DataFrame({'city': '서울', 'year': 2023, 'data_usage': np.random.normal(15, 3, n_per_group)})\n",
        "df_seoul_post = pd.DataFrame({'city': '서울', 'year': 2024, 'data_usage': df_seoul_pre['data_usage'] + 2 + 5 + np.random.normal(0, 1, n_per_group)})\n",
        "df_busan_pre = pd.DataFrame({'city': '부산', 'year': 2023, 'data_usage': np.random.normal(10, 3, n_per_group)})\n",
        "df_busan_post = pd.DataFrame({'city': '부산', 'year': 2024, 'data_usage': df_busan_pre['data_usage'] + 2 + np.random.normal(0, 1, n_per_group)})\n",
        "df5 = pd.concat([df_seoul_pre, df_seoul_post, df_busan_pre, df_busan_post])\n",
        "\n",
        "# 2. 시각화 (이 코드는 수정하지 마세요)\n",
        "sns.lineplot(data=df5, x='year', y='data_usage', hue='city', marker='o', errorbar='ci')\n",
        "plt.title('정책 시행 전후 도시별 평균 데이터 사용량 변화')\n",
        "plt.xticks([2023, 2024]); plt.grid(True, axis='y', linestyle='--')\n",
        "plt.show()\n",
        "\n",
        "# 3. DiD 회귀분석을 위한 변수 생성\n",
        "# 'is_seoul' 변수: city가 '서울'이면 1, 아니면 0\n",
        "df5['is_seoul'] = (df5['city'] == '서울').astype(int)\n",
        "# 'is_post' 변수: year가 2024이면 1, 아니면 0\n",
        "df5['is_post'] = (df5['year'] == 2024).astype(int)\n",
        "# 상호작용 항 'did_term': 'is_seoul'과 'is_post'의 곱\n",
        "df5['did_term'] = df5['is_seoul'] * df5['is_post']\n",
        "\n",
        "y = df5['data_usage']\n",
        "# 독립변수 X에 DiD 분석에 필요한 세 변수('is_seoul', 'is_post', 'did_term')를 포함시키세요.\n",
        "X = df5[['is_seoul', 'is_post', 'did_term']]\n",
        "# 상수항을 추가하고 OLS 모델을 학습시키세요.\n",
        "model_did = sm.OLS(y, sm.add_constant(X)).fit()\n",
        "print(model_did.summary())\n",
        "\n",
        "# 4. 결과 해석 (아래 주석에 직접 작성해 보세요)\n",
        "# is_seoul 계수의 의미: (2023년 기준) 서울과 부산의 데이터 사용량 평균 차이\n",
        "# is_post 계수의 의미: (부산 기준) 2024년이 되면서 자연적으로 증가한 데이터 사용량\n",
        "# did_term (상호작용 항) 계수의 의미: 정책 시행에 따른 서울의 순수한 데이터 사용량 증가(정책 효과, DiD 추정치)\n",
        "# 따라서, 무료 와이파이 정책의 순수한 효과는 약 did_term 계수만큼(GB) 증가라고 할 수 있습니다."
      ]
    },
    {
      "cell_type": "markdown",
      "metadata": {
        "id": "AZ6q22m7y3pR"
      },
      "source": [
        "### 🤔 생각해 볼 문제:\n",
        "\n",
        "이중차분법이 성립하기 위한 가장 중요한 가정은 **'평행추세가정(Parallel Trends Assumption)'**입니다. 즉, '만약 정책이 없었더라면, 서울과 부산의 데이터 사용량은 계속 평행하게 증가했을 것이다'라는 가정입니다. 위 시각화 그래프에서 정책 시행 **전** 시점(2023년 이전)의 데이터가 여러 개 더 있다면, 이 가정을 어떻게 확인할 수 있을지 설명해 보세요.\n"
      ]
    }
  ],
  "metadata": {
    "colab": {
      "provenance": []
    },
    "kernelspec": {
      "display_name": "Python 3",
      "name": "python3"
    },
    "language_info": {
      "codemirror_mode": {
        "name": "ipython",
        "version": 3
      },
      "file_extension": ".py",
      "mimetype": "text/x-python",
      "name": "python",
      "nbconvert_exporter": "python",
      "pygments_lexer": "ipython3",
      "version": "3.11.8"
    }
  },
  "nbformat": 4,
  "nbformat_minor": 0
}
