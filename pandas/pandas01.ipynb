{
 "cells": [
  {
   "cell_type": "code",
   "execution_count": 1,
   "id": "3e397af9",
   "metadata": {},
   "outputs": [
    {
     "name": "stdout",
     "output_type": "stream",
     "text": [
      "2.2.3\n"
     ]
    }
   ],
   "source": [
    "import pandas as pd\n",
    "\n",
    "print(pd.__version__)"
   ]
  },
  {
   "cell_type": "code",
   "execution_count": 2,
   "id": "483f4349",
   "metadata": {},
   "outputs": [
    {
     "name": "stdout",
     "output_type": "stream",
     "text": [
      "김철수    85\n",
      "이영희    92\n",
      "박민수    78\n",
      "최지연    96\n",
      "dtype: int64\n"
     ]
    }
   ],
   "source": [
    "scores = pd.Series([85, 92, 78, 96], index=['김철수', '이영희', '박민수', '최지연'])\n",
    "print(scores)"
   ]
  },
  {
   "cell_type": "code",
   "execution_count": 4,
   "id": "c357f1ee",
   "metadata": {},
   "outputs": [
    {
     "name": "stdout",
     "output_type": "stream",
     "text": [
      "92\n"
     ]
    }
   ],
   "source": [
    "print(scores['이영희'])"
   ]
  },
  {
   "cell_type": "code",
   "execution_count": 12,
   "id": "2d537588",
   "metadata": {},
   "outputs": [
    {
     "name": "stdout",
     "output_type": "stream",
     "text": [
      "이영희    92\n",
      "최지연    96\n",
      "dtype: int64\n"
     ]
    }
   ],
   "source": [
    "high_stu = scores[scores>=90]\n",
    "print(high_stu)"
   ]
  },
  {
   "cell_type": "code",
   "execution_count": 14,
   "id": "5fa2ec9f",
   "metadata": {},
   "outputs": [
    {
     "name": "stdout",
     "output_type": "stream",
     "text": [
      "김철수     90\n",
      "이영희     97\n",
      "박민수     83\n",
      "최지연    101\n",
      "dtype: int64\n"
     ]
    }
   ],
   "source": [
    "plus_score = scores + 5\n",
    "print(plus_score)"
   ]
  },
  {
   "cell_type": "code",
   "execution_count": 16,
   "id": "4e64d437",
   "metadata": {},
   "outputs": [
    {
     "name": "stdout",
     "output_type": "stream",
     "text": [
      "    이름  나이 성별  점수\n",
      "0  김철수  20  남  85\n",
      "1  이영희  19  여  92\n",
      "2  박민수  21  남  78\n",
      "3  최지연  20  여  96\n"
     ]
    }
   ],
   "source": [
    "# 학생 정보를 DataFrame으로 생성\n",
    "stu = {\n",
    "    '이름': ['김철수', '이영희', '박민수', '최지연'],\n",
    "    '나이': [20, 19, 21, 20],\n",
    "    '성별': ['남', '여', '남', '여'],\n",
    "    '점수': [85, 92, 78, 96]\n",
    "}\n",
    "df = pd.DataFrame(stu)\n",
    "print(df)"
   ]
  },
  {
   "cell_type": "code",
   "execution_count": null,
   "id": "94e74649",
   "metadata": {},
   "outputs": [
    {
     "name": "stdout",
     "output_type": "stream",
     "text": [
      "<class 'pandas.core.frame.DataFrame'>\n",
      "RangeIndex: 4 entries, 0 to 3\n",
      "Data columns (total 4 columns):\n",
      " #   Column  Non-Null Count  Dtype \n",
      "---  ------  --------------  ----- \n",
      " 0   이름      4 non-null      object\n",
      " 1   나이      4 non-null      int64 \n",
      " 2   성별      4 non-null      object\n",
      " 3   점수      4 non-null      int64 \n",
      "dtypes: int64(2), object(2)\n",
      "memory usage: 260.0+ bytes\n",
      "None\n",
      "              나이         점수\n",
      "count   4.000000   4.000000\n",
      "mean   20.000000  87.750000\n",
      "std     0.816497   7.932003\n",
      "min    19.000000  78.000000\n",
      "25%    19.750000  83.250000\n",
      "50%    20.000000  88.500000\n",
      "75%    20.250000  93.000000\n",
      "max    21.000000  96.000000\n",
      "(4, 4)\n"
     ]
    }
   ],
   "source": [
    "# DataFrame의 기본 정보\n",
    "print(df.info())\n",
    "\n",
    "# DataFrame의 통계 요약 정보\n",
    "print(df.describe())\n",
    "\n",
    "# DataFrame의 행, 열 개수\n",
    "print(df.shape)"
   ]
  },
  {
   "cell_type": "code",
   "execution_count": 22,
   "id": "eb6bf587",
   "metadata": {},
   "outputs": [
    {
     "name": "stdout",
     "output_type": "stream",
     "text": [
      "    이름  나이 성별  점수\n",
      "0  김철수  20  남  85\n",
      "1  이영희  19  여  92\n"
     ]
    }
   ],
   "source": [
    "print(df.head(2))\n"
   ]
  },
  {
   "cell_type": "code",
   "execution_count": 23,
   "id": "ccdf1652",
   "metadata": {},
   "outputs": [
    {
     "name": "stdout",
     "output_type": "stream",
     "text": [
      "0    85\n",
      "1    92\n",
      "2    78\n",
      "3    96\n",
      "Name: 점수, dtype: int64\n"
     ]
    }
   ],
   "source": [
    "print(df['점수'])"
   ]
  },
  {
   "cell_type": "code",
   "execution_count": null,
   "id": "63ff15a8",
   "metadata": {},
   "outputs": [
    {
     "name": "stdout",
     "output_type": "stream",
     "text": [
      "    이름  나이 성별  점수\n",
      "1  이영희  19  여  92\n"
     ]
    }
   ],
   "source": [
    "print(df.loc[df['이름'] == '이영희'])"
   ]
  },
  {
   "cell_type": "code",
   "execution_count": 27,
   "id": "74417415",
   "metadata": {},
   "outputs": [
    {
     "name": "stdout",
     "output_type": "stream",
     "text": [
      "    이름  점수\n",
      "0  김철수  85\n",
      "2  박민수  78\n"
     ]
    }
   ],
   "source": [
    "print(df.iloc[0:3:2][['이름', '점수']])"
   ]
  },
  {
   "cell_type": "code",
   "execution_count": 28,
   "id": "96ff0501",
   "metadata": {},
   "outputs": [
    {
     "name": "stdout",
     "output_type": "stream",
     "text": [
      "    이름  나이 성별  점수\n",
      "0  김철수  20  남  85\n",
      "3  최지연  20  여  96\n"
     ]
    }
   ],
   "source": [
    "df20 = df[df['나이']==20]\n",
    "print(df20)"
   ]
  },
  {
   "cell_type": "code",
   "execution_count": null,
   "id": "c9661b1e",
   "metadata": {},
   "outputs": [
    {
     "name": "stdout",
     "output_type": "stream",
     "text": [
      "    이름  나이 성별  점수\n",
      "0  김철수  20  남  85\n",
      "1  이영희  19  여  92\n",
      "2  박민수  21  남  78\n",
      "3  최지연  20  여  96\n",
      "4  정민호  22  남  88\n"
     ]
    }
   ],
   "source": [
    "new_df = df.copy()\n",
    "new_df.loc[4] = ['정민호',22,'남',88]\n",
    "print(new_df)"
   ]
  },
  {
   "cell_type": "code",
   "execution_count": null,
   "id": "41e69af2",
   "metadata": {},
   "outputs": [
    {
     "name": "stdout",
     "output_type": "stream",
     "text": [
      "    이름  나이 성별  점수\n",
      "0  김철수  20  남  88\n",
      "1  이영희  19  여  95\n",
      "2  박민수  21  남  81\n",
      "3  최지연  20  여  99\n",
      "4  정민호  22  남  91\n"
     ]
    }
   ],
   "source": [
    "new_df['점수'] = new_df['점수']+3\n",
    "print(new_df)"
   ]
  },
  {
   "cell_type": "code",
   "execution_count": 32,
   "id": "28bd4edc",
   "metadata": {},
   "outputs": [
    {
     "name": "stdout",
     "output_type": "stream",
     "text": [
      "    이름  나이 성별  점수 등급\n",
      "0  김철수  20  남  88  B\n",
      "1  이영희  19  여  95  A\n",
      "2  박민수  21  남  81  B\n",
      "3  최지연  20  여  99  A\n",
      "4  정민호  22  남  91  A\n"
     ]
    }
   ],
   "source": [
    "def get_grade(df):\n",
    "    if df['점수']>=90:\n",
    "        return 'A'\n",
    "    elif df['점수']>=80:\n",
    "        return 'B'\n",
    "    else:\n",
    "        return 'C'\n",
    "\n",
    "new_df['등급'] = new_df.apply(get_grade, axis=1)\n",
    "print(new_df)"
   ]
  },
  {
   "cell_type": "code",
   "execution_count": 39,
   "id": "a2f5197a",
   "metadata": {},
   "outputs": [],
   "source": [
    "import pandas as pd\n",
    "\n",
    "# 샘플 데이터 생성\n",
    "sales_data = {\n",
    "    '주문번호': ['ORD001', 'ORD002', 'ORD003', 'ORD004', 'ORD005', 'ORD006'],\n",
    "    '고객명': ['김철수', '이영희', '박민수', '김철수', '최지연', '이영희'],\n",
    "    '상품명': ['노트북', '마우스', '키보드', '모니터', '노트북', '스피커'],\n",
    "    '가격': [1200000, 25000, 80000, 300000, 1350000, 120000],\n",
    "    '수량': [1, 2, 1, 1, 1, 1],\n",
    "    '주문일': ['2024-01-15', '2024-01-16', '2024-01-16', '2024-01-17', '2024-01-17', '2024-01-18']\n",
    "}\n",
    "\n",
    "df_sales = pd.DataFrame(sales_data)"
   ]
  },
  {
   "cell_type": "code",
   "execution_count": 40,
   "id": "e19747c1",
   "metadata": {},
   "outputs": [
    {
     "data": {
      "text/plain": [
       "3100000"
      ]
     },
     "execution_count": 40,
     "metadata": {},
     "output_type": "execute_result"
    }
   ],
   "source": [
    "df_sales['구매 금액'] = df_sales['가격'] * df_sales['수량']\n",
    "total = sum(df_sales['구매 금액'])\n",
    "total"
   ]
  },
  {
   "cell_type": "code",
   "execution_count": null,
   "id": "bee93286",
   "metadata": {},
   "outputs": [
    {
     "name": "stdout",
     "output_type": "stream",
     "text": [
      "   고객명  주문 횟수  고객별 구매 금액\n",
      "0  김철수      2    1500000\n",
      "1  박민수      1      80000\n",
      "2  이영희      2     170000\n",
      "3  최지연      1    1350000\n"
     ]
    }
   ],
   "source": [
    "customer = df_sales.groupby('고객명').agg({'주문번호':'count', '구매 금액':'sum'}).reset_index()\n",
    "customer = customer.rename(columns={'주문번호':'주문 횟수', '구매 금액':'고객별 구매 금액'})\n",
    "print(customer)"
   ]
  },
  {
   "cell_type": "code",
   "execution_count": 48,
   "id": "0bcb0794",
   "metadata": {},
   "outputs": [
    {
     "name": "stdout",
     "output_type": "stream",
     "text": [
      "     주문번호  고객명  상품명     가격  수량         주문일  구매 금액\n",
      "1  ORD002  이영희  마우스  25000   2  2024-01-16  50000\n"
     ]
    }
   ],
   "source": [
    "max_sales = df_sales[df_sales['수량'] == df_sales['수량'].max()]\n",
    "print(max_sales)"
   ]
  },
  {
   "cell_type": "code",
   "execution_count": 49,
   "id": "24416daa",
   "metadata": {},
   "outputs": [
    {
     "name": "stdout",
     "output_type": "stream",
     "text": [
      "          주문일  일별 주문수    일별 매출\n",
      "0  2024-01-15       1  1200000\n",
      "1  2024-01-16       2   130000\n",
      "2  2024-01-17       2  1650000\n",
      "3  2024-01-18       1   120000\n"
     ]
    }
   ],
   "source": [
    "daily_sales = df_sales.groupby('주문일').agg({'주문번호':'count', '구매 금액':'sum'}).reset_index()\n",
    "daily_sales = daily_sales.rename(columns={'주문번호':'일별 주문수', '구매 금액':'일별 매출'})\n",
    "print(daily_sales)"
   ]
  },
  {
   "cell_type": "code",
   "execution_count": 50,
   "id": "c88c8804",
   "metadata": {},
   "outputs": [
    {
     "name": "stdout",
     "output_type": "stream",
     "text": [
      "     주문번호  고객명  상품명       가격  수량         주문일    구매 금액\n",
      "0  ORD001  김철수  노트북  1200000   1  2024-01-15  1200000\n",
      "3  ORD004  김철수  모니터   300000   1  2024-01-17   300000\n",
      "4  ORD005  최지연  노트북  1350000   1  2024-01-17  1350000\n",
      "5  ORD006  이영희  스피커   120000   1  2024-01-18   120000\n"
     ]
    }
   ],
   "source": [
    "sales_10 = df_sales[df_sales['가격']>=100000]\n",
    "print(sales_10)"
   ]
  },
  {
   "cell_type": "code",
   "execution_count": 53,
   "id": "31c81891",
   "metadata": {},
   "outputs": [
    {
     "data": {
      "text/html": [
       "<div>\n",
       "<style scoped>\n",
       "    .dataframe tbody tr th:only-of-type {\n",
       "        vertical-align: middle;\n",
       "    }\n",
       "\n",
       "    .dataframe tbody tr th {\n",
       "        vertical-align: top;\n",
       "    }\n",
       "\n",
       "    .dataframe thead th {\n",
       "        text-align: right;\n",
       "    }\n",
       "</style>\n",
       "<table border=\"1\" class=\"dataframe\">\n",
       "  <thead>\n",
       "    <tr style=\"text-align: right;\">\n",
       "      <th></th>\n",
       "      <th>이름</th>\n",
       "      <th>나이</th>\n",
       "      <th>점수</th>\n",
       "    </tr>\n",
       "  </thead>\n",
       "  <tbody>\n",
       "    <tr>\n",
       "      <th>0</th>\n",
       "      <td>A</td>\n",
       "      <td>25.0</td>\n",
       "      <td>85.0</td>\n",
       "    </tr>\n",
       "    <tr>\n",
       "      <th>1</th>\n",
       "      <td>B</td>\n",
       "      <td>NaN</td>\n",
       "      <td>90.0</td>\n",
       "    </tr>\n",
       "    <tr>\n",
       "      <th>2</th>\n",
       "      <td>C</td>\n",
       "      <td>30.0</td>\n",
       "      <td>NaN</td>\n",
       "    </tr>\n",
       "    <tr>\n",
       "      <th>3</th>\n",
       "      <td>D</td>\n",
       "      <td>28.0</td>\n",
       "      <td>95.0</td>\n",
       "    </tr>\n",
       "    <tr>\n",
       "      <th>4</th>\n",
       "      <td>E</td>\n",
       "      <td>NaN</td>\n",
       "      <td>88.0</td>\n",
       "    </tr>\n",
       "  </tbody>\n",
       "</table>\n",
       "</div>"
      ],
      "text/plain": [
       "  이름    나이    점수\n",
       "0  A  25.0  85.0\n",
       "1  B   NaN  90.0\n",
       "2  C  30.0   NaN\n",
       "3  D  28.0  95.0\n",
       "4  E   NaN  88.0"
      ]
     },
     "execution_count": 53,
     "metadata": {},
     "output_type": "execute_result"
    }
   ],
   "source": [
    "import numpy as np\n",
    "\n",
    "# 결측치가 있는 데이터\n",
    "messy_data = {\n",
    "    '이름': ['A', 'B', 'C', 'D', 'E'],\n",
    "    '나이': [25, np.nan, 30, 28, np.nan],\n",
    "    '점수': [85, 90, np.nan, 95, 88]\n",
    "}\n",
    "\n",
    "df_messy = pd.DataFrame(messy_data)\n",
    "df_messy"
   ]
  },
  {
   "cell_type": "code",
   "execution_count": 54,
   "id": "ff5928a7",
   "metadata": {},
   "outputs": [
    {
     "data": {
      "text/html": [
       "<div>\n",
       "<style scoped>\n",
       "    .dataframe tbody tr th:only-of-type {\n",
       "        vertical-align: middle;\n",
       "    }\n",
       "\n",
       "    .dataframe tbody tr th {\n",
       "        vertical-align: top;\n",
       "    }\n",
       "\n",
       "    .dataframe thead th {\n",
       "        text-align: right;\n",
       "    }\n",
       "</style>\n",
       "<table border=\"1\" class=\"dataframe\">\n",
       "  <thead>\n",
       "    <tr style=\"text-align: right;\">\n",
       "      <th></th>\n",
       "      <th>이름</th>\n",
       "      <th>나이</th>\n",
       "      <th>점수</th>\n",
       "    </tr>\n",
       "  </thead>\n",
       "  <tbody>\n",
       "    <tr>\n",
       "      <th>0</th>\n",
       "      <td>False</td>\n",
       "      <td>False</td>\n",
       "      <td>False</td>\n",
       "    </tr>\n",
       "    <tr>\n",
       "      <th>1</th>\n",
       "      <td>False</td>\n",
       "      <td>True</td>\n",
       "      <td>False</td>\n",
       "    </tr>\n",
       "    <tr>\n",
       "      <th>2</th>\n",
       "      <td>False</td>\n",
       "      <td>False</td>\n",
       "      <td>True</td>\n",
       "    </tr>\n",
       "    <tr>\n",
       "      <th>3</th>\n",
       "      <td>False</td>\n",
       "      <td>False</td>\n",
       "      <td>False</td>\n",
       "    </tr>\n",
       "    <tr>\n",
       "      <th>4</th>\n",
       "      <td>False</td>\n",
       "      <td>True</td>\n",
       "      <td>False</td>\n",
       "    </tr>\n",
       "  </tbody>\n",
       "</table>\n",
       "</div>"
      ],
      "text/plain": [
       "      이름     나이     점수\n",
       "0  False  False  False\n",
       "1  False   True  False\n",
       "2  False  False   True\n",
       "3  False  False  False\n",
       "4  False   True  False"
      ]
     },
     "execution_count": 54,
     "metadata": {},
     "output_type": "execute_result"
    }
   ],
   "source": [
    "df_messy.isnull()"
   ]
  },
  {
   "cell_type": "code",
   "execution_count": 62,
   "id": "78f32716",
   "metadata": {},
   "outputs": [
    {
     "data": {
      "text/html": [
       "<div>\n",
       "<style scoped>\n",
       "    .dataframe tbody tr th:only-of-type {\n",
       "        vertical-align: middle;\n",
       "    }\n",
       "\n",
       "    .dataframe tbody tr th {\n",
       "        vertical-align: top;\n",
       "    }\n",
       "\n",
       "    .dataframe thead th {\n",
       "        text-align: right;\n",
       "    }\n",
       "</style>\n",
       "<table border=\"1\" class=\"dataframe\">\n",
       "  <thead>\n",
       "    <tr style=\"text-align: right;\">\n",
       "      <th></th>\n",
       "      <th>이름</th>\n",
       "      <th>나이</th>\n",
       "      <th>점수</th>\n",
       "    </tr>\n",
       "  </thead>\n",
       "  <tbody>\n",
       "    <tr>\n",
       "      <th>0</th>\n",
       "      <td>A</td>\n",
       "      <td>25</td>\n",
       "      <td>85.0</td>\n",
       "    </tr>\n",
       "    <tr>\n",
       "      <th>1</th>\n",
       "      <td>B</td>\n",
       "      <td>27</td>\n",
       "      <td>90.0</td>\n",
       "    </tr>\n",
       "    <tr>\n",
       "      <th>2</th>\n",
       "      <td>C</td>\n",
       "      <td>30</td>\n",
       "      <td>NaN</td>\n",
       "    </tr>\n",
       "    <tr>\n",
       "      <th>3</th>\n",
       "      <td>D</td>\n",
       "      <td>28</td>\n",
       "      <td>95.0</td>\n",
       "    </tr>\n",
       "    <tr>\n",
       "      <th>4</th>\n",
       "      <td>E</td>\n",
       "      <td>27</td>\n",
       "      <td>88.0</td>\n",
       "    </tr>\n",
       "  </tbody>\n",
       "</table>\n",
       "</div>"
      ],
      "text/plain": [
       "  이름  나이    점수\n",
       "0  A  25  85.0\n",
       "1  B  27  90.0\n",
       "2  C  30   NaN\n",
       "3  D  28  95.0\n",
       "4  E  27  88.0"
      ]
     },
     "execution_count": 62,
     "metadata": {},
     "output_type": "execute_result"
    }
   ],
   "source": [
    "df_messy['나이'] = df_messy['나이'].fillna(df_messy['나이'].mean().round(0))\n",
    "df_messy"
   ]
  },
  {
   "cell_type": "code",
   "execution_count": 63,
   "id": "63af2107",
   "metadata": {},
   "outputs": [
    {
     "data": {
      "text/html": [
       "<div>\n",
       "<style scoped>\n",
       "    .dataframe tbody tr th:only-of-type {\n",
       "        vertical-align: middle;\n",
       "    }\n",
       "\n",
       "    .dataframe tbody tr th {\n",
       "        vertical-align: top;\n",
       "    }\n",
       "\n",
       "    .dataframe thead th {\n",
       "        text-align: right;\n",
       "    }\n",
       "</style>\n",
       "<table border=\"1\" class=\"dataframe\">\n",
       "  <thead>\n",
       "    <tr style=\"text-align: right;\">\n",
       "      <th></th>\n",
       "      <th>이름</th>\n",
       "      <th>나이</th>\n",
       "      <th>점수</th>\n",
       "    </tr>\n",
       "  </thead>\n",
       "  <tbody>\n",
       "    <tr>\n",
       "      <th>0</th>\n",
       "      <td>A</td>\n",
       "      <td>25</td>\n",
       "      <td>85.0</td>\n",
       "    </tr>\n",
       "    <tr>\n",
       "      <th>1</th>\n",
       "      <td>B</td>\n",
       "      <td>27</td>\n",
       "      <td>90.0</td>\n",
       "    </tr>\n",
       "    <tr>\n",
       "      <th>2</th>\n",
       "      <td>C</td>\n",
       "      <td>30</td>\n",
       "      <td>89.0</td>\n",
       "    </tr>\n",
       "    <tr>\n",
       "      <th>3</th>\n",
       "      <td>D</td>\n",
       "      <td>28</td>\n",
       "      <td>95.0</td>\n",
       "    </tr>\n",
       "    <tr>\n",
       "      <th>4</th>\n",
       "      <td>E</td>\n",
       "      <td>27</td>\n",
       "      <td>88.0</td>\n",
       "    </tr>\n",
       "  </tbody>\n",
       "</table>\n",
       "</div>"
      ],
      "text/plain": [
       "  이름  나이    점수\n",
       "0  A  25  85.0\n",
       "1  B  27  90.0\n",
       "2  C  30  89.0\n",
       "3  D  28  95.0\n",
       "4  E  27  88.0"
      ]
     },
     "execution_count": 63,
     "metadata": {},
     "output_type": "execute_result"
    }
   ],
   "source": [
    "df_messy['점수'] = df_messy['점수'].fillna(df_messy['점수'].median())\n",
    "df_messy"
   ]
  },
  {
   "cell_type": "code",
   "execution_count": 64,
   "id": "9f6a59d5",
   "metadata": {},
   "outputs": [],
   "source": [
    "# 학생 기본정보\n",
    "students = pd.DataFrame({\n",
    "    '학번': ['S001', 'S002', 'S003'],\n",
    "    '이름': ['김철수', '이영희', '박민수'],\n",
    "    '학과': ['컴퓨터공학', '통계학', '경영학']\n",
    "})\n",
    "\n",
    "# 학생 성적정보\n",
    "scores = pd.DataFrame({\n",
    "    '학번': ['S001', 'S002', 'S003'],\n",
    "    '수학': [85, 92, 78],\n",
    "    '영어': [88, 85, 90]\n",
    "})"
   ]
  },
  {
   "cell_type": "code",
   "execution_count": 65,
   "id": "512d5173",
   "metadata": {},
   "outputs": [
    {
     "data": {
      "text/html": [
       "<div>\n",
       "<style scoped>\n",
       "    .dataframe tbody tr th:only-of-type {\n",
       "        vertical-align: middle;\n",
       "    }\n",
       "\n",
       "    .dataframe tbody tr th {\n",
       "        vertical-align: top;\n",
       "    }\n",
       "\n",
       "    .dataframe thead th {\n",
       "        text-align: right;\n",
       "    }\n",
       "</style>\n",
       "<table border=\"1\" class=\"dataframe\">\n",
       "  <thead>\n",
       "    <tr style=\"text-align: right;\">\n",
       "      <th></th>\n",
       "      <th>학번</th>\n",
       "      <th>이름</th>\n",
       "      <th>학과</th>\n",
       "      <th>수학</th>\n",
       "      <th>영어</th>\n",
       "    </tr>\n",
       "  </thead>\n",
       "  <tbody>\n",
       "    <tr>\n",
       "      <th>0</th>\n",
       "      <td>S001</td>\n",
       "      <td>김철수</td>\n",
       "      <td>컴퓨터공학</td>\n",
       "      <td>85</td>\n",
       "      <td>88</td>\n",
       "    </tr>\n",
       "    <tr>\n",
       "      <th>1</th>\n",
       "      <td>S002</td>\n",
       "      <td>이영희</td>\n",
       "      <td>통계학</td>\n",
       "      <td>92</td>\n",
       "      <td>85</td>\n",
       "    </tr>\n",
       "    <tr>\n",
       "      <th>2</th>\n",
       "      <td>S003</td>\n",
       "      <td>박민수</td>\n",
       "      <td>경영학</td>\n",
       "      <td>78</td>\n",
       "      <td>90</td>\n",
       "    </tr>\n",
       "  </tbody>\n",
       "</table>\n",
       "</div>"
      ],
      "text/plain": [
       "     학번   이름     학과  수학  영어\n",
       "0  S001  김철수  컴퓨터공학  85  88\n",
       "1  S002  이영희    통계학  92  85\n",
       "2  S003  박민수    경영학  78  90"
      ]
     },
     "execution_count": 65,
     "metadata": {},
     "output_type": "execute_result"
    }
   ],
   "source": [
    "merged_df = pd.merge(students, scores, on='학번')\n",
    "merged_df"
   ]
  },
  {
   "cell_type": "code",
   "execution_count": 67,
   "id": "0948b334",
   "metadata": {},
   "outputs": [
    {
     "data": {
      "text/html": [
       "<div>\n",
       "<style scoped>\n",
       "    .dataframe tbody tr th:only-of-type {\n",
       "        vertical-align: middle;\n",
       "    }\n",
       "\n",
       "    .dataframe tbody tr th {\n",
       "        vertical-align: top;\n",
       "    }\n",
       "\n",
       "    .dataframe thead th {\n",
       "        text-align: right;\n",
       "    }\n",
       "</style>\n",
       "<table border=\"1\" class=\"dataframe\">\n",
       "  <thead>\n",
       "    <tr style=\"text-align: right;\">\n",
       "      <th></th>\n",
       "      <th>학번</th>\n",
       "      <th>이름</th>\n",
       "      <th>학과</th>\n",
       "      <th>수학</th>\n",
       "      <th>영어</th>\n",
       "      <th>평균</th>\n",
       "    </tr>\n",
       "  </thead>\n",
       "  <tbody>\n",
       "    <tr>\n",
       "      <th>0</th>\n",
       "      <td>S001</td>\n",
       "      <td>김철수</td>\n",
       "      <td>컴퓨터공학</td>\n",
       "      <td>85</td>\n",
       "      <td>88</td>\n",
       "      <td>86.5</td>\n",
       "    </tr>\n",
       "    <tr>\n",
       "      <th>1</th>\n",
       "      <td>S002</td>\n",
       "      <td>이영희</td>\n",
       "      <td>통계학</td>\n",
       "      <td>92</td>\n",
       "      <td>85</td>\n",
       "      <td>88.5</td>\n",
       "    </tr>\n",
       "    <tr>\n",
       "      <th>2</th>\n",
       "      <td>S003</td>\n",
       "      <td>박민수</td>\n",
       "      <td>경영학</td>\n",
       "      <td>78</td>\n",
       "      <td>90</td>\n",
       "      <td>84.0</td>\n",
       "    </tr>\n",
       "  </tbody>\n",
       "</table>\n",
       "</div>"
      ],
      "text/plain": [
       "     학번   이름     학과  수학  영어    평균\n",
       "0  S001  김철수  컴퓨터공학  85  88  86.5\n",
       "1  S002  이영희    통계학  92  85  88.5\n",
       "2  S003  박민수    경영학  78  90  84.0"
      ]
     },
     "execution_count": 67,
     "metadata": {},
     "output_type": "execute_result"
    }
   ],
   "source": [
    "merged_df['평균'] = ((merged_df['수학'] + merged_df['영어'])/2).round(2)\n",
    "merged_df"
   ]
  },
  {
   "cell_type": "code",
   "execution_count": null,
   "id": "b12faee7",
   "metadata": {},
   "outputs": [],
   "source": []
  }
 ],
 "metadata": {
  "kernelspec": {
   "display_name": "py311",
   "language": "python",
   "name": "python3"
  },
  "language_info": {
   "codemirror_mode": {
    "name": "ipython",
    "version": 3
   },
   "file_extension": ".py",
   "mimetype": "text/x-python",
   "name": "python",
   "nbconvert_exporter": "python",
   "pygments_lexer": "ipython3",
   "version": "3.11.8"
  }
 },
 "nbformat": 4,
 "nbformat_minor": 5
}
