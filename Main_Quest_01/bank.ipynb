{
 "cells": [
  {
   "cell_type": "code",
   "execution_count": 36,
   "id": "a1f78aac",
   "metadata": {},
   "outputs": [],
   "source": [
    "import random\n",
    "\n",
    "class Account:\n",
    "    # Q2\n",
    "    account_count = 0      # 생성된 계좌 개수 초기화 및 클래스 변수 선언\n",
    "\n",
    "    # 계좌 생성 - Q1\n",
    "    def __init__(self, name, balance):\n",
    "        self.bank = 'SC은행'    # 은행 이름\n",
    "        self.name = name        # 예금주 이름\n",
    "        self.balance = int(balance)  # 잔액  \n",
    "\n",
    "        # 계좌 번호 생성\n",
    "        def generate_account_number():\n",
    "            part1 = str(random.randint(100, 999))       # 3자리\n",
    "            part2 = str(random.randint(10, 99))         # 2자리\n",
    "            part3 = str(random.randint(100000, 999999)) # 6자리\n",
    "            return f\"{part1}-{part2}-{part3}\"\n",
    "\n",
    "        self.account_number = generate_account_number() # 계좌 번호 생성\n",
    "\n",
    "        # 생성된 계좌 개수 카운팅\n",
    "        Account.account_count += 1\n",
    "\n",
    "        self.deposit_count = 0      # 입금 횟수\n",
    "        self.deposit_list = []      # 입금 내역 리스트\n",
    "        self.withdraw_list = []     # 출금 내역 리스트\n",
    "\n",
    "    # 입금 - Q4\n",
    "    def deposit(self, amount):\n",
    "        amount = int(amount)\n",
    "        # 금액이 1원 이상일 경우\n",
    "        if amount >= 1:\n",
    "            self.balance += amount\n",
    "            self.deposit_count += 1\n",
    "            self.deposit_list.append(f\"{format(amount,',d')}원이 입금되어 잔액은 {format(self.balance, ',d')}원 입니다.\")\n",
    "            \n",
    "            # Q7. 입금 횟수 5회차마다 이자 지급\n",
    "            if self.deposit_count % 5 == 0:\n",
    "                interest = int(self.balance * 0.01)\n",
    "                self.balance += interest\n",
    "                self.deposit_list.append(f\"이자 {format(interest,',d')}원이 입금되어 잔액은 {format(self.balance, ',d')}원 입니다.\")\n",
    "            print(f\"입금 후 {self.name}님의 잔액은 {format(self.balance, ',d')}원 입니다.\\n\")\n",
    "        \n",
    "        # 금액이 1원 미만일 경우\n",
    "        else:\n",
    "            print(f\"입금하시는 금액이 최소 금액인 1원 보다 작은 {amount}원으로 임금하실 수 없습니다. \\n 다시 시도해주세요.\")\n",
    "            return\n",
    "\n",
    "    # 출금 - Q5\n",
    "    def withdraw(self, amount):\n",
    "        amount = int(amount)\n",
    "        # 금액이 잔고 이하일 경우\n",
    "        if amount <= self.balance:\n",
    "            self.balance -= amount\n",
    "            self.withdraw_list.append(f\"{format(amount,',d')}원이 출금되어 잔액은 {format(self.balance, ',d')}원 입니다.\")\n",
    "            print(f\"출금 후 {self.name}님의 잔액은 {format(self.balance, ',d')}원 입니다.\\n\")\n",
    "        \n",
    "        # 금액이 잔고 초과일 경우\n",
    "        else:\n",
    "            print(f\"출금하시는 금액이 잔액인 {self.balance} 보다 큰 {amount}원으로 출금하실 수 없습니다. \\n 다시 시도해주세요.\")\n",
    "            return\n",
    "\n",
    "    # 계좌 정보 출력 - Q6\n",
    "    def display_info(self):\n",
    "        print('은행이름 : ', self.bank)\n",
    "        print('예금주 : ', self.name)\n",
    "        print('계좌번호 : ', self.account_number)\n",
    "        print('잔액 : ', format(self.balance, ',d'))\n",
    "    \n",
    "    @classmethod\n",
    "    def get_account_num(cls):   # 계좌 개수 출력\n",
    "        print(f\"현재까지 생성된 계좌 수 : {cls.account_count}\")\n",
    "\n",
    "    def deposit_history(self):  # 입금 내역\n",
    "        print(f\"[{self.name}님의 입금 내역]\")\n",
    "        for idx, val in enumerate(self.deposit_list):\n",
    "            print(f\"[{idx+1}] {val}\")\n",
    "        print()\n",
    "\n",
    "    def withdraw_history(self):  # 출금 내역\n",
    "        print(f\"[{self.name}님의 출금 내역]\")\n",
    "        for idx, val in enumerate(self.withdraw_list):\n",
    "            print(f\"[{idx+1}] {val}\")\n",
    "        print()"
   ]
  },
  {
   "cell_type": "code",
   "execution_count": 37,
   "id": "300c7b87",
   "metadata": {},
   "outputs": [],
   "source": [
    "# Q8\n",
    "acc1 = Account('정준경', 10000000)\n",
    "acc2 = Account('고양이', 500000)\n",
    "acc3 = Account('강아지', 2000000)"
   ]
  },
  {
   "cell_type": "code",
   "execution_count": 38,
   "id": "ec72bc9e",
   "metadata": {},
   "outputs": [
    {
     "name": "stdout",
     "output_type": "stream",
     "text": [
      "현재까지 생성된 계좌 수 : 3\n"
     ]
    }
   ],
   "source": [
    "# Q3\n",
    "Account.get_account_num()"
   ]
  },
  {
   "cell_type": "code",
   "execution_count": 39,
   "id": "1aaf3e2f",
   "metadata": {},
   "outputs": [
    {
     "name": "stdout",
     "output_type": "stream",
     "text": [
      "[잔고 100만원 이상인 고객 정보]\n",
      "\n",
      "은행이름 :  SC은행\n",
      "예금주 :  정준경\n",
      "계좌번호 :  187-54-516801\n",
      "잔액 :  10,000,000\n",
      "\n",
      "은행이름 :  SC은행\n",
      "예금주 :  강아지\n",
      "계좌번호 :  409-16-115940\n",
      "잔액 :  2,000,000\n",
      "\n"
     ]
    }
   ],
   "source": [
    "# Q9\n",
    "accounts = [acc1, acc2, acc3]\n",
    "\n",
    "print(\"[잔고 100만원 이상인 고객 정보]\\n\")\n",
    "for acc in accounts:\n",
    "    if acc.balance >= 1000000:\n",
    "        acc.display_info()\n",
    "        print()"
   ]
  },
  {
   "cell_type": "code",
   "execution_count": 40,
   "id": "ece2be82",
   "metadata": {},
   "outputs": [
    {
     "name": "stdout",
     "output_type": "stream",
     "text": [
      "입금 후 정준경님의 잔액은 10,001,000원 입니다.\n",
      "\n",
      "입금 후 정준경님의 잔액은 10,003,000원 입니다.\n",
      "\n",
      "입금 후 정준경님의 잔액은 10,006,000원 입니다.\n",
      "\n",
      "입금 후 정준경님의 잔액은 10,010,000원 입니다.\n",
      "\n",
      "입금 후 정준경님의 잔액은 10,115,150원 입니다.\n",
      "\n",
      "출금 후 정준경님의 잔액은 10,113,150원 입니다.\n",
      "\n",
      "[정준경님의 입금 내역]\n",
      "[1] 1,000원이 입금되어 잔액은 10,001,000원 입니다.\n",
      "[2] 2,000원이 입금되어 잔액은 10,003,000원 입니다.\n",
      "[3] 3,000원이 입금되어 잔액은 10,006,000원 입니다.\n",
      "[4] 4,000원이 입금되어 잔액은 10,010,000원 입니다.\n",
      "[5] 5,000원이 입금되어 잔액은 10,015,000원 입니다.\n",
      "[6] 이자 100,150원이 입금되어 잔액은 10,115,150원 입니다.\n",
      "\n",
      "[정준경님의 출금 내역]\n",
      "[1] 2,000원이 출금되어 잔액은 10,113,150원 입니다.\n",
      "\n"
     ]
    }
   ],
   "source": [
    "# 입금/출금 테스트 및 내역 확인 - Q10\n",
    "acc1.deposit(1000)\n",
    "acc1.deposit(2000)\n",
    "acc1.deposit(3000)\n",
    "acc1.deposit(4000)\n",
    "acc1.deposit(5000)  # 5번째 입금 시 이자 지급\n",
    "acc1.withdraw(2000)\n",
    "\n",
    "acc1.deposit_history()\n",
    "acc1.withdraw_history()"
   ]
  },
  {
   "cell_type": "code",
   "execution_count": null,
   "id": "eba78baf",
   "metadata": {},
   "outputs": [],
   "source": []
  }
 ],
 "metadata": {
  "kernelspec": {
   "display_name": "py311",
   "language": "python",
   "name": "python3"
  },
  "language_info": {
   "codemirror_mode": {
    "name": "ipython",
    "version": 3
   },
   "file_extension": ".py",
   "mimetype": "text/x-python",
   "name": "python",
   "nbconvert_exporter": "python",
   "pygments_lexer": "ipython3",
   "version": "3.11.8"
  }
 },
 "nbformat": 4,
 "nbformat_minor": 5
}
