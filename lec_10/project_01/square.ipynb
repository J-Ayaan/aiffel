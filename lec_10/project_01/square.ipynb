{
 "cells": [
  {
   "cell_type": "markdown",
   "id": "19aac755",
   "metadata": {},
   "source": [
    "### 사각형의 넓이 구하기\n",
    "- 직사각형: 가로 x 세로\n",
    "- 평행사변형: 밑변 x 높이\n",
    "- (등변) 사다리꼴: (밑변 + 윗변) x 높이 x (1/2)"
   ]
  },
  {
   "cell_type": "code",
   "execution_count": 1,
   "id": "fe6d1cc4",
   "metadata": {},
   "outputs": [],
   "source": [
    "class Square:\n",
    "    def __init__(self):  # 생성자__init__의 매개변수의 첫번째는 self여야 합니다. \n",
    "        self.square = int(input('넓이를 구하고 싶은 사각형의 숫자를 써주세요.\\n 1.직사각형 2.평행사변형 3.사다리꼴 \\n >>>'))  # 입력값을 int로 묶어야 합니다.\n",
    "\n",
    "        if self.square == 1:\n",
    "            print('직사각형 함수는 rect()입니다.')  # Square 클래스에 rect() 메서드를 추가합니다. \n",
    "\n",
    "        elif self.square == 2:\n",
    "            print('평행사변형 함수는 par()입니다.')  # Square 클래스에 par() 메서드를 추가합니다.  \n",
    "        \n",
    "        elif self.square == 3:\n",
    "            print('사다리꼴 함수는 trape()입니다.')  # Square 클래스에 trape() 메서드를 추가합니다. \n",
    "        \n",
    "        else:\n",
    "            print('1, 2, 3 중에서 다시 입력해주세요')"
   ]
  },
  {
   "cell_type": "code",
   "execution_count": 2,
   "id": "55bd0345",
   "metadata": {},
   "outputs": [],
   "source": [
    "# 사각형의 넓이를 구하기 위한 값 입력 받기\n",
    "# 가로, 세로 = map(int,input('가로, 세로를 입력하세요. 예시 : 가로,세로').split(','))"
   ]
  },
  {
   "cell_type": "code",
   "execution_count": 3,
   "id": "ee3ae5e9",
   "metadata": {},
   "outputs": [],
   "source": [
    "# 사각형 메서드\n",
    "def rect(self):  # 직사각형의 넓이를 구하는 메서드\n",
    "    width, vertical = map(int, input('가로, 세로를 입력하세요. 예시 : 가로,세로\\n >>>').split(','))  #가로, 세로를 입력받는 코드\n",
    "    area = width*vertical\n",
    "    result = '직사각형의 넓이는 : ' + area\n",
    "    return result"
   ]
  },
  {
   "cell_type": "code",
   "execution_count": 4,
   "id": "14d7a75e",
   "metadata": {},
   "outputs": [],
   "source": [
    "# 평행사변형 메서드\n",
    "def par(self):\n",
    "    base, height = map(int, input('밑변, 높이를 입력하세요. 예시 : 밑변,높이\\n >>>').split(','))\n",
    "    area = base * height\n",
    "    result = '평행사변형의 넓이는 : ' + str(area)\n",
    "    return result"
   ]
  },
  {
   "cell_type": "code",
   "execution_count": 5,
   "id": "928169c4",
   "metadata": {},
   "outputs": [],
   "source": [
    "# 사다리꼴 메서드\n",
    "def trape(self):\n",
    "    base, upper_side, height = map(int, input('밑변, 윗변, 높이를 입력하세요. 예시 : 밑변,윗변,높이\\n >>>').split(','))\n",
    "    area = (base+upper_side)*height*(1/2)\n",
    "    result = '사다리꼴의 넓이는 : ' + str(area)\n",
    "    return result"
   ]
  },
  {
   "cell_type": "code",
   "execution_count": 6,
   "id": "e8449ba6",
   "metadata": {},
   "outputs": [],
   "source": [
    "# 사각형 넓이를 구하는 클래스 완성\n",
    "class Square:\n",
    "    def __init__(self):\n",
    "        self.square = int(input('넓이를 구하고 싶은 사각형의 숫자를 써주세요.\\n 1.직사각형 2.평행사변형 3.사다리꼴 \\n >>>'))\n",
    "\n",
    "        if self.square == 1:\n",
    "            print('직사각형 함수는 rect()입니다.')\n",
    "\n",
    "        elif self.square == 2:\n",
    "            print('평행사변형 함수는 par()입니다.')\n",
    "        \n",
    "        elif self.square == 3:\n",
    "            print('사다리꼴 함수는 trape()입니다.')\n",
    "        \n",
    "        else:\n",
    "            print('1, 2, 3 중에서 다시 입력해주세요')\n",
    "\n",
    "    # 사각형 메서드\n",
    "    def rect(self):\n",
    "        width, vertical = map(int, input('가로, 세로를 입력하세요. 예시 : 가로,세로\\n >>>').split(','))\n",
    "        area = width * vertical\n",
    "        result = '직사각형의 넓이는 : ' + str(area)\n",
    "        return result\n",
    "\n",
    "    # 평행사변형 메서드\n",
    "    def par(self):\n",
    "        base, height = map(int, input('밑변, 높이를 입력하세요. 예시 : 밑변,높이\\n >>>').split(','))\n",
    "        area = base * height\n",
    "        result = '평행사변형의 넓이는 : ' + str(area)\n",
    "        return result\n",
    "\n",
    "    # 사다리꼴 메서드\n",
    "    def trape(self):\n",
    "        base, upper_side, height = map(int, input('밑변, 윗변, 높이를 입력하세요. 예시 : 밑변,윗변,높이\\n >>>').split(','))\n",
    "        area = (base+upper_side)*height*(1/2)\n",
    "        result = '사다리꼴의 넓이는 : ' + str(area)\n",
    "        return result"
   ]
  },
  {
   "cell_type": "code",
   "execution_count": 7,
   "id": "7d7c1b30",
   "metadata": {},
   "outputs": [
    {
     "name": "stdout",
     "output_type": "stream",
     "text": [
      "직사각형 함수는 rect()입니다.\n"
     ]
    }
   ],
   "source": [
    "a = Square()"
   ]
  },
  {
   "cell_type": "code",
   "execution_count": 8,
   "id": "2c075abb",
   "metadata": {},
   "outputs": [
    {
     "data": {
      "text/plain": [
       "'직사각형의 넓이는 : 36'"
      ]
     },
     "execution_count": 8,
     "metadata": {},
     "output_type": "execute_result"
    }
   ],
   "source": [
    "# 직사각형 넓이 구하기    12,3\n",
    "a.rect()"
   ]
  },
  {
   "cell_type": "code",
   "execution_count": 9,
   "id": "c919f3c5",
   "metadata": {},
   "outputs": [
    {
     "data": {
      "text/plain": [
       "'평행사변형의 넓이는 : 36'"
      ]
     },
     "execution_count": 9,
     "metadata": {},
     "output_type": "execute_result"
    }
   ],
   "source": [
    "# 평행사변형 넓이 구하기    12,3\n",
    "a.par()"
   ]
  },
  {
   "cell_type": "code",
   "execution_count": 10,
   "id": "098b89c2",
   "metadata": {},
   "outputs": [
    {
     "data": {
      "text/plain": [
       "'사다리꼴의 넓이는 : 30.0'"
      ]
     },
     "execution_count": 10,
     "metadata": {},
     "output_type": "execute_result"
    }
   ],
   "source": [
    "# 사다리꼴 넓이 구하기    10,5,4\n",
    "a.trape()"
   ]
  }
 ],
 "metadata": {
  "kernelspec": {
   "display_name": "py311",
   "language": "python",
   "name": "python3"
  },
  "language_info": {
   "codemirror_mode": {
    "name": "ipython",
    "version": 3
   },
   "file_extension": ".py",
   "mimetype": "text/x-python",
   "name": "python",
   "nbconvert_exporter": "python",
   "pygments_lexer": "ipython3",
   "version": "3.11.8"
  }
 },
 "nbformat": 4,
 "nbformat_minor": 5
}
